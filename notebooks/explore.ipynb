{
 "cells": [
  {
   "cell_type": "code",
   "execution_count": 1,
   "metadata": {},
   "outputs": [],
   "source": [
    "import pandas as pd\n",
    "import seaborn as sns\n",
    "import matplotlib.pyplot as plt"
   ]
  },
  {
   "cell_type": "code",
   "execution_count": 2,
   "metadata": {},
   "outputs": [],
   "source": [
    "import warnings\n",
    "\n",
    "# Suppress all future warnings\n",
    "warnings.simplefilter(action='ignore', category=FutureWarning)"
   ]
  },
  {
   "cell_type": "markdown",
   "metadata": {},
   "source": [
    "# Read Data"
   ]
  },
  {
   "cell_type": "code",
   "execution_count": 3,
   "metadata": {},
   "outputs": [],
   "source": [
    "train_data = pd.read_csv(\"../data/complete_responses.csv\")\n",
    "test_data = pd.read_csv(\"../data/survery_incomplete.csv\")"
   ]
  },
  {
   "cell_type": "code",
   "execution_count": 4,
   "metadata": {},
   "outputs": [
    {
     "data": {
      "text/html": [
       "<div>\n",
       "<style scoped>\n",
       "    .dataframe tbody tr th:only-of-type {\n",
       "        vertical-align: middle;\n",
       "    }\n",
       "\n",
       "    .dataframe tbody tr th {\n",
       "        vertical-align: top;\n",
       "    }\n",
       "\n",
       "    .dataframe thead th {\n",
       "        text-align: right;\n",
       "    }\n",
       "</style>\n",
       "<table border=\"1\" class=\"dataframe\">\n",
       "  <thead>\n",
       "    <tr style=\"text-align: right;\">\n",
       "      <th></th>\n",
       "      <th>salary</th>\n",
       "      <th>age</th>\n",
       "      <th>elevel</th>\n",
       "      <th>car</th>\n",
       "      <th>zipcode</th>\n",
       "      <th>credit</th>\n",
       "      <th>brand</th>\n",
       "    </tr>\n",
       "  </thead>\n",
       "  <tbody>\n",
       "    <tr>\n",
       "      <th>0</th>\n",
       "      <td>119806.54480</td>\n",
       "      <td>45</td>\n",
       "      <td>0</td>\n",
       "      <td>14</td>\n",
       "      <td>4</td>\n",
       "      <td>442037.71130</td>\n",
       "      <td>0</td>\n",
       "    </tr>\n",
       "    <tr>\n",
       "      <th>1</th>\n",
       "      <td>106880.47840</td>\n",
       "      <td>63</td>\n",
       "      <td>1</td>\n",
       "      <td>11</td>\n",
       "      <td>6</td>\n",
       "      <td>45007.17883</td>\n",
       "      <td>1</td>\n",
       "    </tr>\n",
       "    <tr>\n",
       "      <th>2</th>\n",
       "      <td>78020.75094</td>\n",
       "      <td>23</td>\n",
       "      <td>0</td>\n",
       "      <td>15</td>\n",
       "      <td>2</td>\n",
       "      <td>48795.32279</td>\n",
       "      <td>0</td>\n",
       "    </tr>\n",
       "    <tr>\n",
       "      <th>3</th>\n",
       "      <td>63689.93635</td>\n",
       "      <td>51</td>\n",
       "      <td>3</td>\n",
       "      <td>6</td>\n",
       "      <td>5</td>\n",
       "      <td>40888.87736</td>\n",
       "      <td>1</td>\n",
       "    </tr>\n",
       "    <tr>\n",
       "      <th>4</th>\n",
       "      <td>50873.61880</td>\n",
       "      <td>20</td>\n",
       "      <td>3</td>\n",
       "      <td>14</td>\n",
       "      <td>4</td>\n",
       "      <td>352951.49770</td>\n",
       "      <td>0</td>\n",
       "    </tr>\n",
       "  </tbody>\n",
       "</table>\n",
       "</div>"
      ],
      "text/plain": [
       "         salary  age  elevel  car  zipcode        credit  brand\n",
       "0  119806.54480   45       0   14        4  442037.71130      0\n",
       "1  106880.47840   63       1   11        6   45007.17883      1\n",
       "2   78020.75094   23       0   15        2   48795.32279      0\n",
       "3   63689.93635   51       3    6        5   40888.87736      1\n",
       "4   50873.61880   20       3   14        4  352951.49770      0"
      ]
     },
     "execution_count": 4,
     "metadata": {},
     "output_type": "execute_result"
    }
   ],
   "source": [
    "train_data.head()"
   ]
  },
  {
   "cell_type": "markdown",
   "metadata": {},
   "source": [
    "# EDA"
   ]
  },
  {
   "cell_type": "code",
   "execution_count": 5,
   "metadata": {},
   "outputs": [],
   "source": [
    "numerical_cols = [\"salary\", \"age\", \"credit\"]\n",
    "categorical_cols = [\"elevel\", \"car\", \"zipcode\"]\n",
    "target_col = [\"brand\"]"
   ]
  },
  {
   "cell_type": "markdown",
   "metadata": {},
   "source": [
    "## Stats Summary"
   ]
  },
  {
   "cell_type": "code",
   "execution_count": 6,
   "metadata": {},
   "outputs": [
    {
     "data": {
      "text/plain": [
       "9898"
      ]
     },
     "execution_count": 6,
     "metadata": {},
     "output_type": "execute_result"
    }
   ],
   "source": [
    "len(train_data)"
   ]
  },
  {
   "cell_type": "code",
   "execution_count": 7,
   "metadata": {},
   "outputs": [
    {
     "data": {
      "text/plain": [
       "0.5827671685225226"
      ]
     },
     "execution_count": 7,
     "metadata": {},
     "output_type": "execute_result"
    }
   ],
   "source": [
    "145211.572531/249175.966620"
   ]
  },
  {
   "cell_type": "code",
   "execution_count": 8,
   "metadata": {},
   "outputs": [
    {
     "data": {
      "text/html": [
       "<div>\n",
       "<style scoped>\n",
       "    .dataframe tbody tr th:only-of-type {\n",
       "        vertical-align: middle;\n",
       "    }\n",
       "\n",
       "    .dataframe tbody tr th {\n",
       "        vertical-align: top;\n",
       "    }\n",
       "\n",
       "    .dataframe thead th {\n",
       "        text-align: right;\n",
       "    }\n",
       "</style>\n",
       "<table border=\"1\" class=\"dataframe\">\n",
       "  <thead>\n",
       "    <tr style=\"text-align: right;\">\n",
       "      <th></th>\n",
       "      <th>salary</th>\n",
       "      <th>age</th>\n",
       "      <th>credit</th>\n",
       "    </tr>\n",
       "  </thead>\n",
       "  <tbody>\n",
       "    <tr>\n",
       "      <th>count</th>\n",
       "      <td>9898.000000</td>\n",
       "      <td>9898.000000</td>\n",
       "      <td>9898.000000</td>\n",
       "    </tr>\n",
       "    <tr>\n",
       "      <th>mean</th>\n",
       "      <td>84870.862257</td>\n",
       "      <td>49.778642</td>\n",
       "      <td>249175.966620</td>\n",
       "    </tr>\n",
       "    <tr>\n",
       "      <th>std</th>\n",
       "      <td>37712.340836</td>\n",
       "      <td>17.596685</td>\n",
       "      <td>145211.572531</td>\n",
       "    </tr>\n",
       "    <tr>\n",
       "      <th>min</th>\n",
       "      <td>20000.000000</td>\n",
       "      <td>20.000000</td>\n",
       "      <td>0.000000</td>\n",
       "    </tr>\n",
       "    <tr>\n",
       "      <th>25%</th>\n",
       "      <td>52082.106040</td>\n",
       "      <td>35.000000</td>\n",
       "      <td>120806.813900</td>\n",
       "    </tr>\n",
       "    <tr>\n",
       "      <th>50%</th>\n",
       "      <td>84949.735155</td>\n",
       "      <td>50.000000</td>\n",
       "      <td>250607.146100</td>\n",
       "    </tr>\n",
       "    <tr>\n",
       "      <th>75%</th>\n",
       "      <td>117162.043375</td>\n",
       "      <td>65.000000</td>\n",
       "      <td>374639.701800</td>\n",
       "    </tr>\n",
       "    <tr>\n",
       "      <th>max</th>\n",
       "      <td>150000.000000</td>\n",
       "      <td>80.000000</td>\n",
       "      <td>500000.000000</td>\n",
       "    </tr>\n",
       "  </tbody>\n",
       "</table>\n",
       "</div>"
      ],
      "text/plain": [
       "              salary          age         credit\n",
       "count    9898.000000  9898.000000    9898.000000\n",
       "mean    84870.862257    49.778642  249175.966620\n",
       "std     37712.340836    17.596685  145211.572531\n",
       "min     20000.000000    20.000000       0.000000\n",
       "25%     52082.106040    35.000000  120806.813900\n",
       "50%     84949.735155    50.000000  250607.146100\n",
       "75%    117162.043375    65.000000  374639.701800\n",
       "max    150000.000000    80.000000  500000.000000"
      ]
     },
     "execution_count": 8,
     "metadata": {},
     "output_type": "execute_result"
    }
   ],
   "source": [
    "train_data[numerical_cols].describe()\n",
    "\n",
    "# Salary\n",
    "## std almost half of the mean (44.4%), data is widely spread / high variability\n",
    "## with high variability potentially has extreme values or outliers\n",
    "## (can be seen by max value is almost double the mean and min value is fourth of the mean value)\n",
    "\n",
    "# Age\n",
    "## has tighther std (34% of the mean)\n",
    "## need to check distribution as min and max values are considerably big\n",
    "\n",
    "# Credit\n",
    "## std more than half of the mean (58.2%), high variability\n",
    "## min value is 0 and max values double the mean"
   ]
  },
  {
   "cell_type": "code",
   "execution_count": 9,
   "metadata": {},
   "outputs": [],
   "source": [
    "freq_counts = train_data[categorical_cols].apply(pd.value_counts)\n",
    "mode_values = train_data[categorical_cols].mode()"
   ]
  },
  {
   "cell_type": "code",
   "execution_count": 10,
   "metadata": {},
   "outputs": [
    {
     "data": {
      "text/html": [
       "<div>\n",
       "<style scoped>\n",
       "    .dataframe tbody tr th:only-of-type {\n",
       "        vertical-align: middle;\n",
       "    }\n",
       "\n",
       "    .dataframe tbody tr th {\n",
       "        vertical-align: top;\n",
       "    }\n",
       "\n",
       "    .dataframe thead th {\n",
       "        text-align: right;\n",
       "    }\n",
       "</style>\n",
       "<table border=\"1\" class=\"dataframe\">\n",
       "  <thead>\n",
       "    <tr style=\"text-align: right;\">\n",
       "      <th></th>\n",
       "      <th>elevel</th>\n",
       "      <th>car</th>\n",
       "      <th>zipcode</th>\n",
       "    </tr>\n",
       "  </thead>\n",
       "  <tbody>\n",
       "    <tr>\n",
       "      <th>0</th>\n",
       "      <td>2052.0</td>\n",
       "      <td>NaN</td>\n",
       "      <td>1085.0</td>\n",
       "    </tr>\n",
       "    <tr>\n",
       "      <th>1</th>\n",
       "      <td>1948.0</td>\n",
       "      <td>492.0</td>\n",
       "      <td>1053.0</td>\n",
       "    </tr>\n",
       "    <tr>\n",
       "      <th>2</th>\n",
       "      <td>1983.0</td>\n",
       "      <td>509.0</td>\n",
       "      <td>1112.0</td>\n",
       "    </tr>\n",
       "    <tr>\n",
       "      <th>3</th>\n",
       "      <td>1947.0</td>\n",
       "      <td>488.0</td>\n",
       "      <td>1080.0</td>\n",
       "    </tr>\n",
       "    <tr>\n",
       "      <th>4</th>\n",
       "      <td>1968.0</td>\n",
       "      <td>479.0</td>\n",
       "      <td>1087.0</td>\n",
       "    </tr>\n",
       "    <tr>\n",
       "      <th>5</th>\n",
       "      <td>NaN</td>\n",
       "      <td>505.0</td>\n",
       "      <td>1108.0</td>\n",
       "    </tr>\n",
       "    <tr>\n",
       "      <th>6</th>\n",
       "      <td>NaN</td>\n",
       "      <td>477.0</td>\n",
       "      <td>1155.0</td>\n",
       "    </tr>\n",
       "    <tr>\n",
       "      <th>7</th>\n",
       "      <td>NaN</td>\n",
       "      <td>495.0</td>\n",
       "      <td>1083.0</td>\n",
       "    </tr>\n",
       "    <tr>\n",
       "      <th>8</th>\n",
       "      <td>NaN</td>\n",
       "      <td>511.0</td>\n",
       "      <td>1135.0</td>\n",
       "    </tr>\n",
       "    <tr>\n",
       "      <th>9</th>\n",
       "      <td>NaN</td>\n",
       "      <td>487.0</td>\n",
       "      <td>NaN</td>\n",
       "    </tr>\n",
       "    <tr>\n",
       "      <th>10</th>\n",
       "      <td>NaN</td>\n",
       "      <td>500.0</td>\n",
       "      <td>NaN</td>\n",
       "    </tr>\n",
       "    <tr>\n",
       "      <th>11</th>\n",
       "      <td>NaN</td>\n",
       "      <td>473.0</td>\n",
       "      <td>NaN</td>\n",
       "    </tr>\n",
       "    <tr>\n",
       "      <th>12</th>\n",
       "      <td>NaN</td>\n",
       "      <td>498.0</td>\n",
       "      <td>NaN</td>\n",
       "    </tr>\n",
       "    <tr>\n",
       "      <th>13</th>\n",
       "      <td>NaN</td>\n",
       "      <td>473.0</td>\n",
       "      <td>NaN</td>\n",
       "    </tr>\n",
       "    <tr>\n",
       "      <th>14</th>\n",
       "      <td>NaN</td>\n",
       "      <td>494.0</td>\n",
       "      <td>NaN</td>\n",
       "    </tr>\n",
       "    <tr>\n",
       "      <th>15</th>\n",
       "      <td>NaN</td>\n",
       "      <td>542.0</td>\n",
       "      <td>NaN</td>\n",
       "    </tr>\n",
       "    <tr>\n",
       "      <th>16</th>\n",
       "      <td>NaN</td>\n",
       "      <td>470.0</td>\n",
       "      <td>NaN</td>\n",
       "    </tr>\n",
       "    <tr>\n",
       "      <th>17</th>\n",
       "      <td>NaN</td>\n",
       "      <td>508.0</td>\n",
       "      <td>NaN</td>\n",
       "    </tr>\n",
       "    <tr>\n",
       "      <th>18</th>\n",
       "      <td>NaN</td>\n",
       "      <td>524.0</td>\n",
       "      <td>NaN</td>\n",
       "    </tr>\n",
       "    <tr>\n",
       "      <th>19</th>\n",
       "      <td>NaN</td>\n",
       "      <td>489.0</td>\n",
       "      <td>NaN</td>\n",
       "    </tr>\n",
       "    <tr>\n",
       "      <th>20</th>\n",
       "      <td>NaN</td>\n",
       "      <td>484.0</td>\n",
       "      <td>NaN</td>\n",
       "    </tr>\n",
       "  </tbody>\n",
       "</table>\n",
       "</div>"
      ],
      "text/plain": [
       "    elevel    car  zipcode\n",
       "0   2052.0    NaN   1085.0\n",
       "1   1948.0  492.0   1053.0\n",
       "2   1983.0  509.0   1112.0\n",
       "3   1947.0  488.0   1080.0\n",
       "4   1968.0  479.0   1087.0\n",
       "5      NaN  505.0   1108.0\n",
       "6      NaN  477.0   1155.0\n",
       "7      NaN  495.0   1083.0\n",
       "8      NaN  511.0   1135.0\n",
       "9      NaN  487.0      NaN\n",
       "10     NaN  500.0      NaN\n",
       "11     NaN  473.0      NaN\n",
       "12     NaN  498.0      NaN\n",
       "13     NaN  473.0      NaN\n",
       "14     NaN  494.0      NaN\n",
       "15     NaN  542.0      NaN\n",
       "16     NaN  470.0      NaN\n",
       "17     NaN  508.0      NaN\n",
       "18     NaN  524.0      NaN\n",
       "19     NaN  489.0      NaN\n",
       "20     NaN  484.0      NaN"
      ]
     },
     "execution_count": 10,
     "metadata": {},
     "output_type": "execute_result"
    }
   ],
   "source": [
    "freq_counts\n",
    "\n",
    "# elevel\n",
    "## nothing suspicious, almost evenly distributed with `Less than highschool degree` have more data\n",
    "## worth to check the distribution on each level to all the non target columns\n",
    "\n",
    "# car\n",
    "## same as elevel, almost evenly distributed to all car types\n",
    "\n",
    "# zipcode\n",
    "## same as elevel and car, almost evenly distributed"
   ]
  },
  {
   "cell_type": "code",
   "execution_count": 11,
   "metadata": {},
   "outputs": [
    {
     "data": {
      "text/html": [
       "<div>\n",
       "<style scoped>\n",
       "    .dataframe tbody tr th:only-of-type {\n",
       "        vertical-align: middle;\n",
       "    }\n",
       "\n",
       "    .dataframe tbody tr th {\n",
       "        vertical-align: top;\n",
       "    }\n",
       "\n",
       "    .dataframe thead th {\n",
       "        text-align: right;\n",
       "    }\n",
       "</style>\n",
       "<table border=\"1\" class=\"dataframe\">\n",
       "  <thead>\n",
       "    <tr style=\"text-align: right;\">\n",
       "      <th></th>\n",
       "      <th>elevel</th>\n",
       "      <th>car</th>\n",
       "      <th>zipcode</th>\n",
       "    </tr>\n",
       "  </thead>\n",
       "  <tbody>\n",
       "    <tr>\n",
       "      <th>0</th>\n",
       "      <td>0</td>\n",
       "      <td>15</td>\n",
       "      <td>6</td>\n",
       "    </tr>\n",
       "  </tbody>\n",
       "</table>\n",
       "</div>"
      ],
      "text/plain": [
       "   elevel  car  zipcode\n",
       "0       0   15        6"
      ]
     },
     "execution_count": 11,
     "metadata": {},
     "output_type": "execute_result"
    }
   ],
   "source": [
    "mode_values"
   ]
  },
  {
   "cell_type": "markdown",
   "metadata": {},
   "source": [
    "## Check Missing Values"
   ]
  },
  {
   "cell_type": "code",
   "execution_count": 12,
   "metadata": {},
   "outputs": [
    {
     "data": {
      "text/plain": [
       "salary     0\n",
       "age        0\n",
       "elevel     0\n",
       "car        0\n",
       "zipcode    0\n",
       "credit     0\n",
       "brand      0\n",
       "dtype: int64"
      ]
     },
     "execution_count": 12,
     "metadata": {},
     "output_type": "execute_result"
    }
   ],
   "source": [
    "train_data.isna().sum()\n",
    "\n",
    "# no missing value, nothing to worry about"
   ]
  },
  {
   "cell_type": "markdown",
   "metadata": {},
   "source": [
    "## Check Imbalance Target"
   ]
  },
  {
   "cell_type": "code",
   "execution_count": 13,
   "metadata": {},
   "outputs": [
    {
     "data": {
      "text/plain": [
       "brand\n",
       "1        6154\n",
       "0        3744\n",
       "Name: count, dtype: int64"
      ]
     },
     "execution_count": 13,
     "metadata": {},
     "output_type": "execute_result"
    }
   ],
   "source": [
    "train_data[target_col].value_counts()\n",
    "\n",
    "# TODO: to prevent bias in the model due to imbalance we will experiment on:\n",
    "# 1. SMOTE (synthetic minority oversampling technique) approach\n",
    "# 2. 2-phase learning, first phase with undersampling and second phase with as is data"
   ]
  },
  {
   "cell_type": "markdown",
   "metadata": {},
   "source": [
    "## Visualization"
   ]
  },
  {
   "cell_type": "markdown",
   "metadata": {},
   "source": [
    "### Target: Brand"
   ]
  },
  {
   "cell_type": "code",
   "execution_count": 14,
   "metadata": {},
   "outputs": [
    {
     "data": {
      "image/png": "[encoded data removed]",
      "text/plain": [
       "<Figure size 640x480 with 1 Axes>"
      ]
     },
     "metadata": {},
     "output_type": "display_data"
    }
   ],
   "source": [
    "sns.countplot(train_data, x='brand')\n",
    "plt.title(\"Brand count\")\n",
    "plt.xlabel(\"Brand\")\n",
    "plt.ylabel(\"Count\")\n",
    "plt.show()"
   ]
  },
  {
   "cell_type": "code",
   "execution_count": 15,
   "metadata": {},
   "outputs": [
    {
     "data": {
      "image/png": "[encoded data removed]",
      "text/plain": [
       "<Figure size 640x480 with 2 Axes>"
      ]
     },
     "metadata": {},
     "output_type": "display_data"
    }
   ],
   "source": [
    "correlation_matrix = train_data[numerical_cols + target_col].corr()\n",
    "sns.heatmap(correlation_matrix, annot=True, cmap='coolwarm', fmt=\".2f\", square=True, vmax=1.0)\n",
    "plt.title('Pearson Correlation (numerical vs target)')\n",
    "plt.show()\n",
    "\n",
    "# salary has the highest correlation with brand meanwhile age and credit is close to no correlation\n",
    "# TODO: more inspection on salary column"
   ]
  },
  {
   "cell_type": "markdown",
   "metadata": {},
   "source": [
    "### Salary"
   ]
  },
  {
   "cell_type": "code",
   "execution_count": 16,
   "metadata": {},
   "outputs": [
    {
     "data": {
      "image/png": "[encoded data removed]",
      "text/plain": [
       "<Figure size 640x480 with 1 Axes>"
      ]
     },
     "metadata": {},
     "output_type": "display_data"
    },
    {
     "data": {
      "text/plain": [
       "salary\n",
       "20000.00000     129\n",
       "150000.00000    115\n",
       "119806.54480      1\n",
       "74359.37273       1\n",
       "126616.00690      1\n",
       "               ... \n",
       "32145.62607       1\n",
       "62694.03085       1\n",
       "94811.30248       1\n",
       "141276.36010      1\n",
       "96430.16419       1\n",
       "Name: count, Length: 9656, dtype: int64"
      ]
     },
     "execution_count": 16,
     "metadata": {},
     "output_type": "execute_result"
    }
   ],
   "source": [
    "sns.set_theme(style=\"whitegrid\")\n",
    "sns.histplot(train_data[\"salary\"], bins=500)\n",
    "plt.xlabel(\"Salary\")\n",
    "plt.ylabel(\"Density\")\n",
    "plt.title(\"Salary Distribution Plot\")\n",
    "plt.show()\n",
    "\n",
    "train_data[\"salary\"].value_counts()\n",
    "\n",
    "# only 20k and 150k that have multiple input, makes it hard to indicate this column as a numerical cols\n",
    "# TODO: find the balance and transform the data to categorical. can differ the salary category to 4 levels by leveraging the stats summary\n",
    "# x < q1: low income\n",
    "# q1 <= x <= q2: mid-low income\n",
    "# q2 < x <= q3: mid-high income\n",
    "# x > q3: high income"
   ]
  },
  {
   "cell_type": "markdown",
   "metadata": {},
   "source": [
    "### Age"
   ]
  },
  {
   "cell_type": "code",
   "execution_count": 17,
   "metadata": {},
   "outputs": [
    {
     "data": {
      "image/png": "[encoded data removed]",
      "text/plain": [
       "<Figure size 640x480 with 1 Axes>"
      ]
     },
     "metadata": {},
     "output_type": "display_data"
    },
    {
     "data": {
      "text/plain": [
       "age\n",
       "20    242\n",
       "41    205\n",
       "80    201\n",
       "62    193\n",
       "51    182\n",
       "     ... \n",
       "39    137\n",
       "78    136\n",
       "44    133\n",
       "79    105\n",
       "21     98\n",
       "Name: count, Length: 61, dtype: int64"
      ]
     },
     "execution_count": 17,
     "metadata": {},
     "output_type": "execute_result"
    }
   ],
   "source": [
    "sns.set_theme(style=\"whitegrid\")\n",
    "sns.histplot(train_data[\"age\"], bins=50)\n",
    "plt.xlabel(\"Age\")\n",
    "plt.ylabel(\"Density\")\n",
    "plt.title(\"Age Distribution Plot\")\n",
    "plt.show()\n",
    "\n",
    "train_data[\"age\"].value_counts()\n",
    "\n",
    "# there is no suspicious data input like we encounter in salary\n",
    "# we can keep going use the age as numerical feature"
   ]
  },
  {
   "cell_type": "markdown",
   "metadata": {},
   "source": [
    "### Credits"
   ]
  },
  {
   "cell_type": "code",
   "execution_count": 18,
   "metadata": {},
   "outputs": [
    {
     "data": {
      "image/png": "[encoded data removed]",
      "text/plain": [
       "<Figure size 640x480 with 1 Axes>"
      ]
     },
     "metadata": {},
     "output_type": "display_data"
    },
    {
     "data": {
      "text/plain": [
       "credit\n",
       "500000.00000    129\n",
       "0.00000         119\n",
       "55744.23774       1\n",
       "420447.47510      1\n",
       "453704.52500      1\n",
       "               ... \n",
       "421469.91670      1\n",
       "346927.48280      1\n",
       "470081.78830      1\n",
       "326678.79380      1\n",
       "224029.80700      1\n",
       "Name: count, Length: 9652, dtype: int64"
      ]
     },
     "execution_count": 18,
     "metadata": {},
     "output_type": "execute_result"
    }
   ],
   "source": [
    "sns.set_theme(style=\"whitegrid\")\n",
    "sns.histplot(train_data[\"credit\"], bins=500)\n",
    "plt.xlabel(\"Credit\")\n",
    "plt.ylabel(\"Density\")\n",
    "plt.title(\"Credits Distribution Plot\")\n",
    "plt.show()\n",
    "\n",
    "train_data[\"credit\"].value_counts()\n",
    "\n",
    "# similar to salary, there is input behavior needs to take into account\n",
    "# TODO: apply the same strategy as salary with special care on 0 credit\n",
    "# x = 0 -> no credit\n",
    "# 0 < x < q1 -> low credit\n",
    "# q1 <= x <= q2 -> med-low credit\n",
    "# q2 < x <= q3 -> med-high credit\n",
    "# x > q3 -> high credit"
   ]
  },
  {
   "cell_type": "markdown",
   "metadata": {},
   "source": [
    "# Summary"
   ]
  },
  {
   "cell_type": "markdown",
   "metadata": {},
   "source": [
    "- **sampling**: train and test data have been divided by data provider, no need to do data splitting\n",
    "- **labeling**: from all 6 independent features, `car` is the very unlikely data to capture in real-life scenario, the target label is strong natural label as we can imagine someone who come to a laptop store directly select the laptop and whatever brand they pick will be recorded (don't need to set a feedback loop to user)\n",
    "- **class imbalance**: can be categorized as `natural imbalance problem`, to handle this we will experimenting on 2 approaches which are SMOTE and 2-phase learning\n",
    "- **missing values**: no missing data\n",
    "- **scaling**: no scaling approach to be done (2 numerical features will be converted to categorical features leaving only 1 numerical feature `age`)\n",
    "- **discretization of numerical feature**: `salary` and `credit` will be converted to categorical feature \n",
    "- **encoding categorical feature**: all categorical features will be one-hot encoded\n",
    "- **feature crossing**: none"
   ]
  },
  {
   "cell_type": "markdown",
   "metadata": {},
   "source": [
    "Model that will be used for this case is **XGBoost**"
   ]
  }
 ],
 "metadata": {
  "kernelspec": {
   "display_name": ".venv",
   "language": "python",
   "name": "python3"
  },
  "language_info": {
   "codemirror_mode": {
    "name": "ipython",
    "version": 3
   },
   "file_extension": ".py",
   "mimetype": "text/x-python",
   "name": "python",
   "nbconvert_exporter": "python",
   "pygments_lexer": "ipython3",
   "version": "3.9.6"
  }
 },
 "nbformat": 4,
 "nbformat_minor": 2
}
